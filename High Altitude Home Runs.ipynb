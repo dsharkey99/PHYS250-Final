{
 "cells": [
  {
   "cell_type": "markdown",
   "metadata": {},
   "source": [
    "# High Altitude Home Runs"
   ]
  },
  {
   "cell_type": "code",
   "execution_count": 1,
   "metadata": {},
   "outputs": [],
   "source": [
    "import numpy as np\n",
    "import matplotlib.pyplot as plt\n",
    "%matplotlib inline"
   ]
  },
  {
   "cell_type": "markdown",
   "metadata": {},
   "source": [
    "In order to start, we have to define the equation that defines the projectile motion of the ball. In order to do this I will define the forces that act on the ball seperately to simplify the final equation.\n",
    "\n",
    "According to NASA (https://www.grc.nasa.gov/WWW/K-12/airplane/balldrag.html) the drag coefficient on a baseball is equal to 0.3\n",
    "Similarly according to NASA (https://www.grc.nasa.gov/WWW/K-12/airplane/balllift.html) the lift coefficient on a baseball is 0.15\n",
    "\n",
    "It is also important to note that a baseball's circumfrence and mass are not constant for all baseballs, instead they fall inside a tolerance. The range for circumfrence is .229-.235 meters and the mass is .142-.149 kg (https://en.wikipedia.org/wiki/Baseball_(ball)#:~:targetText=Under%20the%20current%20rules%2C%20a,%E2%80%9376%20mm%20in%20diameter). We will just be using the middle of the range as an approximation; i.e .232 m and .1455 kg\n",
    "\n",
    "For air density, we will just be using the values provided here (https://www.purplerow.com/2018/1/8/16846116/colorado-rockies-coors-field-arizona-diamondbacks-chase-field-comparison#:~:targetText=On%20a%20typical%20summer%20day,has%20an%20air%20density%20of%20.) This also provides us with an air density for San Diego which we will use as our control.\n",
    "\n",
    "Average Pitch Height of 1.14 meters\n",
    "\n",
    "Average Spin based on launch angle (https://fivethirtyeight.com/features/home-runs-are-soaring-could-declining-backspin-be-a-factor/)\n",
    "\n",
    "3800 rpm for 35-39, 3175 for 30-34, 2560 for 25-29, 1975 for 20-24, 1425, for 15-19. We can convert this to rps for the magnus force by dividing by 60 giving us: 63.3 rps for 35-39, 52.916 rps for 30-34, 42.6 rps for 25-29, 32.9 for 20-24, 23.75 rps for 15-19"
   ]
  },
  {
   "cell_type": "code",
   "execution_count": 2,
   "metadata": {},
   "outputs": [],
   "source": [
    "#Here we will be defining a bunch of constants used later in case we want to change them.\n",
    "Cd= 0.3\n",
    "Cl=0.15\n",
    "mass= .1455 #kg\n",
    "Rball = .232/(2*np.pi) #meters\n",
    "CrossA= np.pi*(Rball**2) #meters **2\n",
    "g=-9.8 #kgm/s**2\n",
    "Airdensea= 1.182 #kg/m**3\n",
    "Airdenco= .966  #kg/m**3\n",
    "\n",
    "termvsea=(np.sqrt ( (2 * mass * g) / (Cd * Airdensea * CrossA) ))\n",
    "termvco=(np.sqrt ( (2 * mass * g) / (Cd * Airdenco * CrossA) ))\n",
    "\n"
   ]
  },
  {
   "cell_type": "code",
   "execution_count": 3,
   "metadata": {},
   "outputs": [],
   "source": [
    "def terminaldrag(Location): #Arg requires either co or sea for the two heights, This terminal drag is never used as the ball never reaches terminal velocity\n",
    "    if Location == \"co\":\n",
    "        return(.5*Cd*Airdenco*CrossA*termvco**2)\n",
    "    elif Location == \"sea\":\n",
    "        return(.5*Cd*Airdensea*CrossA*termvsea**2)\n",
    "\n",
    "def drag(vel,Location): #This is a function for drag based on the velocity\n",
    "    if Location == \"co\":\n",
    "        return (.5*Cd*Airdenco*CrossA*(vel**2))\n",
    "    elif Location == \"sea\":\n",
    "        return (.5*Cd*Airdensea*CrossA*(vel**2))\n",
    "    \n",
    "def lift(vel,spin,Location): #This calculates lift based on spin in rps and the velocity\n",
    "    if Location == 'co':\n",
    "        return(Cl*(4 * np.pi**2 * Rball**3 * spin * Airdenco * vel) * (4/3))\n",
    "    elif Location == 'sea':\n",
    "        return(Cl*(4 * np.pi**2 * Rball**3 * spin * Airdensea * vel) * (4/3))\n",
    "\n",
    "\n",
    "def ascensionf(vel, Location): #This calculates the total opposing force as the ball rises when drag and gravity are both negative\n",
    "    if Location == 'co':\n",
    "        return( (mass*g) - drag(vel, Location))\n",
    "    elif Location ==\"sea\":\n",
    "        return( (mass*g) - drag(vel, Location))\n",
    "    "
   ]
  },
  {
   "cell_type": "code",
   "execution_count": 4,
   "metadata": {},
   "outputs": [],
   "source": [
    "def Baseballflight(t, y, spin, Location): # This will be the equation solved by the runga kutta method. It includes both the affect on the x and y axis\n",
    "    '''y is an array with [X0,Y0,Vx,Vy]'''\n",
    "    \n",
    "    dydt= np.zeros(4)\n",
    "    \n",
    "    dydt[1]=y[3]\n",
    "    if y[3]>=0:\n",
    "        dydt[3]= (ascensionf(y[3],Location)+lift(y[2],spin,Location))/mass #it is important to note that as the baseball begins to fall, drag will actually start to help it stay in the air, and thus we must hvave two differnt equations\n",
    "    elif y[3]<0:\n",
    "        dydt[3]= ((mass*g)+drag(y[3],Location)+lift(y[2],spin,Location))/mass\n",
    "    dydt[0]=y[2]\n",
    "    dydt[2]= ((-lift(y[3],spin,Location)-drag(y[2],Location))/mass)\n",
    "    return(dydt)"
   ]
  },
  {
   "cell_type": "markdown",
   "metadata": {},
   "source": [
    "Now I will be including the Runga Kutta method as a way to solve these equations. I will be largely using the code Professor Miller Provided in his example on the Runga Kutta Method. However, I have changed it to work with the function I defined for the flight of the ball. Also I edited to stop if it detected that the ball had hit the ground"
   ]
  },
  {
   "cell_type": "code",
   "execution_count": 5,
   "metadata": {},
   "outputs": [],
   "source": [
    "def RungeKutta4(func, y_0, t, spin, Location):\n",
    "    \"\"\" Classical Runge-Kutta (RK4) approximation to a first-order ODE system\n",
    "    with initial conditions.\n",
    "\n",
    "    Args:\n",
    "        func: (callable) The first-order ODE system to be approximated.\n",
    "        y_0:  (array)    The initial condition.\n",
    "        t:    (array)    A sequence of time points for which to solve for y.\n",
    "        args: (dict)     Extra arguments to pass to function.\n",
    "\n",
    "    Out:\n",
    "        y:    (array)    The approximated solution of the system at each time in t,\n",
    "                         with the initial value y_0 in the first row.\n",
    "    \"\"\"\n",
    "\n",
    "    # Initialise the approximation array\n",
    "    y = np.zeros([len(t), len(y_0)])\n",
    "    y[0] = y_0\n",
    "\n",
    "    # Loop through the time steps, approximating this step from the prev step\n",
    "    for i, t_i in enumerate(t[:-1]):\n",
    "        if y[i][1]<=0:\n",
    "            return(y)\n",
    "        else:\n",
    "            h   = t[i+1] - t_i # size of the step\n",
    "\n",
    "            k_1 = h*func(t_i, y[i], spin, Location)\n",
    "            k_2 = h*func(t_i + h/2. , y[i] + k_1/2., spin, Location)\n",
    "            k_3 = h*func(t_i + h/2. , y[i] + k_2/2., spin, Location)\n",
    "            k_4 = h*func(t_i + h    , y[i] + k_3, spin, Location)\n",
    "\n",
    "            y[i+1] = y[i] + 1/6.*(k_1 + 2.*k_2 + 2.*k_3 + k_4) # RK4 step\n",
    "        \n",
    "    return y"
   ]
  },
  {
   "cell_type": "code",
   "execution_count": 6,
   "metadata": {},
   "outputs": [],
   "source": [
    "N     = 250 # Num of steps to take\n",
    "t_max = 7.5 # Limit of the range to evaluate the function\n",
    "T    = np.linspace(0., t_max, N+1) # Array of discretized steps\n",
    "\n",
    "#This is a trial run using the longest home run of the 2019 season\n",
    "y_0= np.array([0,1.14,48.7*np.cos(27*np.pi/180),48.7*np.sin(27*np.pi/180)])\n",
    "ysea= RungeKutta4(Baseballflight,y_0,T,42,'sea')\n",
    "yco=RungeKutta4(Baseballflight,y_0,T,42,'co')"
   ]
  },
  {
   "cell_type": "code",
   "execution_count": 7,
   "metadata": {},
   "outputs": [],
   "source": [
    "def Cleanerfunc(array): #This function just removes the left over zeroes at the end of the array for cleaner graphs\n",
    "    temp=array.tolist()\n",
    "    counter=0\n",
    "    for k in temp:\n",
    "        if k[2]==0:\n",
    "            counter+=1\n",
    "    for l in range(counter):\n",
    "        temp.remove([0.0,0.0,0.0,0.0])\n",
    "    final=np.asarray(temp)       \n",
    "    return(final)"
   ]
  },
  {
   "cell_type": "code",
   "execution_count": 8,
   "metadata": {},
   "outputs": [],
   "source": [
    "Seaclean=Cleanerfunc(ysea)\n",
    "\n",
    "Coclean=Cleanerfunc(yco)"
   ]
  },
  {
   "cell_type": "code",
   "execution_count": 9,
   "metadata": {},
   "outputs": [
    {
     "data": {
      "image/png": "[encoded data removed]",
      "text/plain": [
       "<Figure size 560x480 with 1 Axes>"
      ]
     },
     "metadata": {},
     "output_type": "display_data"
    }
   ],
   "source": [
    "plt.figure(num=None, figsize=(7,6), dpi=80, facecolor='w', edgecolor='k')\n",
    "plt.plot(Seaclean[:,0],Seaclean[:,1],label='Sea Level')\n",
    "plt.plot(Coclean[:,0],Coclean[:,1],label='Colorado')\n",
    "\n",
    "\n",
    "plt.xlabel('X (meters)')\n",
    "plt.ylabel('Y (meters)')\n",
    "plt.title(\"Example Trajectory\")\n",
    "\n",
    "plt.axhline(color=\"black\")\n",
    "plt.axvline(color=\"black\")\n",
    "\n",
    "plt.legend()\n",
    "plt.savefig('Example Trajectory')"
   ]
  },
  {
   "cell_type": "code",
   "execution_count": 10,
   "metadata": {},
   "outputs": [],
   "source": [
    "def vacuumbaseball(t,y,spin,location):\n",
    "        \n",
    "    dydt= np.zeros(4)\n",
    "    \n",
    "    dydt[1]=y[3]\n",
    "    dydt[3]= g\n",
    "    dydt[0]=y[2]\n",
    "    dydt[2]= 0\n",
    "    return(dydt)\n",
    "    "
   ]
  },
  {
   "cell_type": "code",
   "execution_count": 11,
   "metadata": {},
   "outputs": [
    {
     "name": "stdout",
     "output_type": "stream",
     "text": [
      "169.2051486559922 176.54143088150946 199.16936137139845\n"
     ]
    }
   ],
   "source": [
    "Vacuum=RungeKutta4(vacuumbaseball,y_0,T,1,'Sea')\n",
    "Vacuumclean=Cleanerfunc(Vacuum)\n",
    "print(Seaclean[-1][0],Coclean[-1][0],Vacuumclean[-1][0])"
   ]
  },
  {
   "cell_type": "code",
   "execution_count": 12,
   "metadata": {
    "scrolled": false
   },
   "outputs": [
    {
     "data": {
      "image/png": "[encoded data removed]",
      "text/plain": [
       "<Figure size 560x480 with 1 Axes>"
      ]
     },
     "metadata": {},
     "output_type": "display_data"
    }
   ],
   "source": [
    "plt.figure(num=None, figsize=(7,6), dpi=80, facecolor='w', edgecolor='k')\n",
    "plt.plot(Seaclean[:,0],Seaclean[:,1],label='Sea Level')\n",
    "plt.plot(Coclean[:,0],Coclean[:,1],label='Colorado')\n",
    "plt.plot(Vacuumclean[:,0],Vacuumclean[:,1],label=\"Vacuum\",linestyle='--')\n",
    "\n",
    "plt.xlabel('X (meters)')\n",
    "plt.ylabel('Y (meters)')\n",
    "plt.title('The Effects of Drag and Lift')\n",
    "\n",
    "plt.axhline(color=\"black\")\n",
    "plt.axvline(color=\"black\")\n",
    "\n",
    "plt.legend()\n",
    "plt.savefig('Simulation vs Vacuum')"
   ]
  },
  {
   "cell_type": "markdown",
   "metadata": {},
   "source": [
    "Now we want to test a set of data to see how many more home runs come out of the set than do before. I'll be using hitting data from 3 players, Kris Bryant, Ji-man Choi and Mookie Bets.(https://baseballsavant.mlb.com/statcast_search?hfPT=&hfAB=&hfBBT=fly%5C.%5C.ball%7C&hfPR=&hfZ=&stadium=&hfBBL=&hfNewZones=&hfGT=R%7C&hfC=&hfSea=2019%7C&hfSit=&player_type=batter&hfOuts=&opponent=&pitcher_throws=&batter_stands=&hfSA=&game_date_gt=&game_date_lt=&hfInfield=&team=&position=&hfOutfield=&hfRO=&home_road=&batters_lookup%5B%5D=605141&batters_lookup%5B%5D=592178&batters_lookup%5B%5D=596847&hfFlag=&hfPull=&metric_1=&hfInn=&min_pitches=0&min_results=0&group_by=name&sort_col=pitches&player_event_sort=h_launch_speed&sort_order=desc&min_pas=0#results)\n",
    "Using Statcast to find the exit velocity and launch angle for all of their fly balls from last season. For the spin I will use the ranges included in the 538 article cited at the beginning:  63.3 rps for 35-39, 52.916 rps for 30-34, 42.6 rps for 25-29, 32.9 for 20-24, 23.75 rps for 15-19. I will calculate how far they would have went using my algorithm for sea level and for colorado and see how many of them get converted to homeruns"
   ]
  },
  {
   "cell_type": "code",
   "execution_count": 13,
   "metadata": {},
   "outputs": [],
   "source": [
    "mbactualdist,mbspeedmph, mbangledeg = np.loadtxt('Betsdata.csv', unpack=True, skiprows=1,delimiter=',', usecols=(0,1,2))\n",
    "kbactualdist,kbspeedmph, kbangledeg = np.loadtxt('Bryantdata.csv', unpack=True, skiprows=1,delimiter=',', usecols=(0,1,2))\n",
    "jcactualdist,jcspeedmph, jcangledeg = np.loadtxt('Jimandata.csv', unpack=True, skiprows=1,delimiter=',', usecols=(0,1,2))\n",
    "\n",
    "mbspeed=(mbspeedmph/2.23694) #convert to mps\n",
    "kbspeed=(kbspeedmph/2.23694)\n",
    "jcspeed=(jcspeedmph/2.23694)\n",
    "\n",
    "mbangle=(mbangledeg*(np.pi/180)) #convert to radian\n",
    "kbangle=(kbangledeg*(np.pi/180))\n",
    "jcangle=(jcangledeg*(np.pi/180))\n"
   ]
  },
  {
   "cell_type": "code",
   "execution_count": 14,
   "metadata": {},
   "outputs": [],
   "source": [
    "mbspin=[]\n",
    "for i in mbangledeg:\n",
    "    if  i >35:\n",
    "        mbspin.append(63.3)\n",
    "    elif i<=35 and i > 29:\n",
    "        mbspin.append(52.916)\n",
    "    elif i <=29 and i>24:\n",
    "        mbspin.append(42.6)\n",
    "    elif i<=24 and i>19:\n",
    "        mbspin.append(32.9)\n",
    "    elif i<=19:\n",
    "        mbspin.append(23.75)\n",
    "kbspin=[]\n",
    "for i in kbangledeg:\n",
    "    if  i >35:\n",
    "        kbspin.append(63.3)\n",
    "    elif i<=35 and i > 29:\n",
    "        kbspin.append(52.916)\n",
    "    elif i <=29 and i>24:\n",
    "        kbspin.append(42.6)\n",
    "    elif i<=24 and i>19:\n",
    "        kbspin.append(32.9)\n",
    "    elif i<=19:\n",
    "        kbspin.append(23.75)\n",
    "jcspin=[]\n",
    "for i in jcangledeg:\n",
    "    if  i >35:\n",
    "        jcspin.append(63.3)\n",
    "    elif i<=35 and i > 29:\n",
    "        jcspin.append(52.916)\n",
    "    elif i <=29 and i>24:\n",
    "        jcspin.append(42.6)\n",
    "    elif i<=24 and i>19:\n",
    "        jcspin.append(32.9)\n",
    "    elif i<=19:\n",
    "        jcspin.append(23.75)\n",
    "        "
   ]
  },
  {
   "cell_type": "code",
   "execution_count": 15,
   "metadata": {},
   "outputs": [],
   "source": [
    "y_mb=[] #Lets create a list for all the initial values we need\n",
    "for i in range (len(mbspeed)):\n",
    "    y_mb.append([0,1.14,mbspeed[i]*np.cos(mbangle[i]),mbspeed[i]*np.sin(mbangle[i])])\n",
    "y_kb=[]\n",
    "for i in range (len(kbspeed)):\n",
    "    y_kb.append([0,1.14,kbspeed[i]*np.cos(kbangle[i]),kbspeed[i]*np.sin(kbangle[i])])\n",
    "y_jc=[]\n",
    "for i in range (len(jcspeed)):\n",
    "    y_jc.append([0,1.14,jcspeed[i]*np.cos(jcangle[i]),jcspeed[i]*np.sin(jcangle[i])])"
   ]
  },
  {
   "cell_type": "code",
   "execution_count": 16,
   "metadata": {},
   "outputs": [],
   "source": [
    "mbxfinalco=[]\n",
    "for y,s in zip (y_mb, mbspin):\n",
    "    temp=RungeKutta4(Baseballflight,y,T,s,'co')\n",
    "    tempclean=Cleanerfunc(temp)\n",
    "    mbxfinalco.append(tempclean[-1][0])\n",
    "mbxfinalsea=[]\n",
    "for y,s in zip (y_mb, mbspin):\n",
    "    temp=RungeKutta4(Baseballflight,y,T,s,'sea')\n",
    "    tempclean=Cleanerfunc(temp)\n",
    "    mbxfinalsea.append(tempclean[-1][0])\n",
    "    "
   ]
  },
  {
   "cell_type": "code",
   "execution_count": 17,
   "metadata": {},
   "outputs": [],
   "source": [
    "kbxfinalco=[]\n",
    "for y,s in zip (y_kb, kbspin):\n",
    "    temp=RungeKutta4(Baseballflight,y,T,s,'co')\n",
    "    tempclean=Cleanerfunc(temp)\n",
    "    kbxfinalco.append(tempclean[-1][0])\n",
    "kbxfinalsea=[]\n",
    "for y,s in zip (y_kb, kbspin):\n",
    "    temp=RungeKutta4(Baseballflight,y,T,s,'sea')\n",
    "    tempclean=Cleanerfunc(temp)\n",
    "    kbxfinalsea.append(tempclean[-1][0])\n"
   ]
  },
  {
   "cell_type": "code",
   "execution_count": 18,
   "metadata": {},
   "outputs": [],
   "source": [
    "jcxfinalco=[]\n",
    "for y,s in zip (y_jc, jcspin):\n",
    "    temp=RungeKutta4(Baseballflight,y,T,s,'co')\n",
    "    tempclean=Cleanerfunc(temp)\n",
    "    jcxfinalco.append(tempclean[-1][0])\n",
    "jcxfinalsea=[]\n",
    "for y,s in zip (y_jc, jcspin):\n",
    "    temp=RungeKutta4(Baseballflight,y,T,s,'sea')\n",
    "    tempclean=Cleanerfunc(temp)\n",
    "    jcxfinalsea.append(tempclean[-1][0])"
   ]
  },
  {
   "cell_type": "markdown",
   "metadata": {},
   "source": [
    "In order to determine if it was a home run I am using the centerfield distance for Coors field"
   ]
  },
  {
   "cell_type": "code",
   "execution_count": 22,
   "metadata": {},
   "outputs": [
    {
     "name": "stdout",
     "output_type": "stream",
     "text": [
      "1.1702127659574468 1.2586206896551724 1.0\n"
     ]
    }
   ],
   "source": [
    "def Homeruncounter(xdist):\n",
    "    counter=0\n",
    "    for d in xdist:\n",
    "        if d>126:\n",
    "            counter+=1\n",
    "    return(counter)\n",
    "HRjcsea=Homeruncounter(jcxfinalsea)\n",
    "HRjcco=Homeruncounter(jcxfinalsea)\n",
    "\n",
    "HRkbsea=Homeruncounter(kbxfinalsea)\n",
    "HRkbco=Homeruncounter(kbxfinalco)\n",
    "\n",
    "HRmbsea=Homeruncounter(mbxfinalsea)\n",
    "HRmbco=Homeruncounter(mbxfinalco)\n",
    "\n",
    "\n",
    "MBratio=HRmbco/HRmbsea\n",
    "KBratio=HRkbco/HRkbsea\n",
    "JCratio=HRjcco/HRjcsea\n",
    "\n",
    "print(MBratio,KBratio,JCratio)"
   ]
  },
  {
   "cell_type": "markdown",
   "metadata": {},
   "source": [
    "If I average this, it will compare with the value I plotted at the very beginning."
   ]
  },
  {
   "cell_type": "code",
   "execution_count": 28,
   "metadata": {},
   "outputs": [
    {
     "name": "stdout",
     "output_type": "stream",
     "text": [
      "1.1429444852042063\n"
     ]
    }
   ],
   "source": [
    "AverageFactor=(MBratio+KBratio+JCratio)/3\n",
    "print(AverageFactor)\n",
    "Names=['Ji-Man Choi','Kris Bryant','Mookie Betts','Average']\n",
    "Ratios=[JCratio,KBratio,MBratio,AverageFactor]"
   ]
  },
  {
   "cell_type": "code",
   "execution_count": 29,
   "metadata": {},
   "outputs": [
    {
     "data": {
      "image/png": "[encoded data removed]",
      "text/plain": [
       "<Figure size 432x288 with 1 Axes>"
      ]
     },
     "metadata": {
      "needs_background": "light"
     },
     "output_type": "display_data"
    }
   ],
   "source": [
    "y_pos=np.arange(len(Names))\n",
    "fig =\n",
    "plt.barh(y_pos,Ratios,align='center',alpha=1,)\n",
    "plt.yticks(y_pos,Names)\n",
    "plt.axvline(x=1.266, color='purple',label= 'Rockies Park Factor')\n",
    "plt.legend()\n",
    "plt.xlabel('# of HRs in Co/# of HRs at Sea Level')\n",
    "plt.title('Expected Factor vs Actual Factor')\n",
    "plt.savefig('Result')"
   ]
  },
  {
   "cell_type": "markdown",
   "metadata": {},
   "source": [
    " There are a few assumptions I made which could have led to error.\n",
    "    1. I assumed all of the initial velocity goes in the x and y directions and none in the z direction.\n",
    "    2. Similarly I assumed the ball went straight through centerfield\n",
    "    3. I also assumed all of the spin was directly backwards\n",
    "    4. I assumed that there was no wind impacting the ball\n",
    "\n",
    "Points 1 and 2 shouldn't matter as we can define the axis where x is whatever direction the velocity is pointing when the ball is hit, this won't affect the calculations.\n",
    "Point 4 should even out, as the wind isn't going to have been blowing in the whole time.\n",
    "\n",
    "This leaves point 3 as the likely source of our error. To account for this I am going to assume that the spin is not 100% backwards, instead I'm going to assume 10% of it goes in the z direction\n",
    "   "
   ]
  },
  {
   "cell_type": "code",
   "execution_count": null,
   "metadata": {},
   "outputs": [],
   "source": []
  },
  {
   "cell_type": "code",
   "execution_count": null,
   "metadata": {},
   "outputs": [],
   "source": []
  },
  {
   "cell_type": "code",
   "execution_count": null,
   "metadata": {},
   "outputs": [],
   "source": []
  },
  {
   "cell_type": "code",
   "execution_count": null,
   "metadata": {},
   "outputs": [],
   "source": []
  },
  {
   "cell_type": "code",
   "execution_count": null,
   "metadata": {},
   "outputs": [],
   "source": []
  },
  {
   "cell_type": "code",
   "execution_count": null,
   "metadata": {},
   "outputs": [],
   "source": []
  }
 ],
 "metadata": {
  "kernelspec": {
   "display_name": "Python 3",
   "language": "python",
   "name": "python3"
  },
  "language_info": {
   "codemirror_mode": {
    "name": "ipython",
    "version": 3
   },
   "file_extension": ".py",
   "mimetype": "text/x-python",
   "name": "python",
   "nbconvert_exporter": "python",
   "pygments_lexer": "ipython3",
   "version": "3.7.4"
  }
 },
 "nbformat": 4,
 "nbformat_minor": 2
}
