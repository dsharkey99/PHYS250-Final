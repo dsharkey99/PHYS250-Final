{
 "cells": [
  {
   "cell_type": "markdown",
   "metadata": {},
   "source": []
  },
  {
   "cell_type": "code",
   "execution_count": 1,
   "metadata": {},
   "outputs": [],
   "source": [
    "import numpy as np\n",
    "import matplotlib.pyplot as plt\n",
    "%matplotlib inline"
   ]
  },
  {
   "cell_type": "markdown",
   "metadata": {},
   "source": [
    "In order to start, we have to define the equation that defines the projectile motion of the ball. In order to do this I will define the forces that act on the ball seperately to simplify the final equation.\n",
    "\n",
    "According to NASA (https://www.grc.nasa.gov/WWW/K-12/airplane/balldrag.html) the drag coefficient on a baseball is equal to 0.3\n",
    "Similarly according to NASA (https://www.grc.nasa.gov/WWW/K-12/airplane/balllift.html) the lift coefficient on a baseball is 0.15\n",
    "\n",
    "It is also important to note that a baseball's circumfrence and mass are not constant for all baseballs, instead they fall inside a tolerance. The range for radius is .229-.235 meters and the mass is .142-.149 kg (https://en.wikipedia.org/wiki/Baseball_(ball)#:~:targetText=Under%20the%20current%20rules%2C%20a,%E2%80%9376%20mm%20in%20diameter). We will just be using the middle of the range as an approximation; i.e .232 m and .1455 kg\n",
    "\n",
    "For air density, we will just be using the values provided here (https://www.purplerow.com/2018/1/8/16846116/colorado-rockies-coors-field-arizona-diamondbacks-chase-field-comparison#:~:targetText=On%20a%20typical%20summer%20day,has%20an%20air%20density%20of%20.) This also provides us with an air density for San Diego which we will use as our control.\n",
    "\n"
   ]
  },
  {
   "cell_type": "code",
   "execution_count": 6,
   "metadata": {},
   "outputs": [],
   "source": [
    "#Here we will be defining a bunch of constants used later in case we want to change them.\n",
    "Cd= 0.3\n",
    "Cl=0.15\n",
    "mass= .1455\n",
    "Rball = .232/(2*np.pi)\n",
    "CrossA= np.pi* Rball**2\n",
    "g=9.8\n",
    "Airdensea= 1.182 \n",
    "Airdenco= .966 \n",
    "\n",
    "termvsea=(np.sqrt ( (2 * mass * g) / (Cd * Airdensea * CrossA) ))\n",
    "termvco=(np.sqrt ( (2 * mass * g) / (Cd * Airdenco * CrossA) ))\n"
   ]
  },
  {
   "cell_type": "code",
   "execution_count": 12,
   "metadata": {},
   "outputs": [],
   "source": [
    "def terminaldrag(Location): #Arg requires either co or sea for the two heights\n",
    "    if Location == \"co\":\n",
    "        return(.5*Cd*Airdenco*Aball*termvco**2)\n",
    "    elif Location == \"sea\":\n",
    "        return(.5*Cd*Airdensea*Aball*termvsea**2)\n",
    "\n",
    "def drag(vel,Location):\n",
    "    if Location == \"co\":\n",
    "        return .5*Cd*Airdenco*Aball*vel**2\n",
    "    elif Location == \"sea\":\n",
    "        return .5*Cd*Airdensea*Aball*vel**2\n",
    "    \n",
    "def lift(vel,spin,Location):\n",
    "    if Location == 'co':\n",
    "        return(Cl*(4 * np.pi^2 * Rball**3 * spin * Airdenco * vel) * (4/3))\n",
    "    elif Location == 'sea':\n",
    "        return(Cl*(4 * np.pi^2 * Rball**3 * spin * Airdensea * vel) * (4/3))\n",
    "\n",
    "\n",
    "def ascensionf(vel, Location):\n",
    "    if Location == 'co':\n",
    "        return( (-mass*g) - drag(vel, Airdenco))\n",
    "    elif Location ==\"sea\":\n",
    "        return( (-mass*g) - drag(vel, Airdensea))"
   ]
  },
  {
   "cell_type": "code",
   "execution_count": null,
   "metadata": {},
   "outputs": [],
   "source": []
  }
 ],
 "metadata": {
  "kernelspec": {
   "display_name": "Python 3",
   "language": "python",
   "name": "python3"
  },
  "language_info": {
   "codemirror_mode": {
    "name": "ipython",
    "version": 3
   },
   "file_extension": ".py",
   "mimetype": "text/x-python",
   "name": "python",
   "nbconvert_exporter": "python",
   "pygments_lexer": "ipython3",
   "version": "3.7.4"
  }
 },
 "nbformat": 4,
 "nbformat_minor": 2
}
