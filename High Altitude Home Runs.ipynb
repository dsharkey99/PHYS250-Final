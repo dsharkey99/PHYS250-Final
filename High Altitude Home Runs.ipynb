{
 "cells": [
  {
   "cell_type": "markdown",
   "metadata": {},
   "source": []
  },
  {
   "cell_type": "code",
   "execution_count": 1,
   "metadata": {},
   "outputs": [],
   "source": [
    "import numpy as np\n",
    "import matplotlib.pyplot as plt\n",
    "%matplotlib inline"
   ]
  },
  {
   "cell_type": "markdown",
   "metadata": {},
   "source": [
    "In order to start, we have to define the equation that defines the projectile motion of the ball. In order to do this I will define the forces that act on the ball seperately to simplify the final equation.\n",
    "\n",
    "According to NASA (https://www.grc.nasa.gov/WWW/K-12/airplane/balldrag.html) the drag coefficient on a baseball is equal to 0.3\n",
    "Similarly according to NASA (https://www.grc.nasa.gov/WWW/K-12/airplane/balllift.html) the lift coefficient on a baseball is 0.15\n",
    "\n",
    "It is also important to note that a baseball's circumfrence and mass are not constant for all baseballs, instead they fall inside a tolerance. The range for radius is .229-.235 meters and the mass is .142-.149 kg (https://en.wikipedia.org/wiki/Baseball_(ball)#:~:targetText=Under%20the%20current%20rules%2C%20a,%E2%80%9376%20mm%20in%20diameter). We will just be using the middle of the range as an approximation; i.e .232 m and .1455 kg\n",
    "\n",
    "For air density, we will just be using the values provided here (https://www.purplerow.com/2018/1/8/16846116/colorado-rockies-coors-field-arizona-diamondbacks-chase-field-comparison#:~:targetText=On%20a%20typical%20summer%20day,has%20an%20air%20density%20of%20.) This also provides us with an air density for San Diego which we will use as our control.\n",
    "\n",
    "Average Pitch Height of 1.14 meters"
   ]
  },
  {
   "cell_type": "code",
   "execution_count": 115,
   "metadata": {},
   "outputs": [],
   "source": [
    "#Here we will be defining a bunch of constants used later in case we want to change them.\n",
    "Cd= 0.3\n",
    "Cl=0.15\n",
    "mass= .1455\n",
    "Rball = .232/(2*np.pi)\n",
    "CrossA= np.pi* Rball**2\n",
    "g=-9.8\n",
    "Airdensea= 1.182 \n",
    "Airdenco= .966 \n",
    "z0=1.14\n",
    "\n",
    "termvsea=(np.sqrt ( (2 * mass * g) / (Cd * Airdensea * CrossA) ))\n",
    "termvco=(np.sqrt ( (2 * mass * g) / (Cd * Airdenco * CrossA) ))\n"
   ]
  },
  {
   "cell_type": "code",
   "execution_count": 123,
   "metadata": {},
   "outputs": [],
   "source": [
    "def terminaldrag(Location): #Arg requires either co or sea for the two heights\n",
    "    if Location == \"co\":\n",
    "        return(.5*Cd*Airdenco*CrossA*termvco**2)\n",
    "    elif Location == \"sea\":\n",
    "        return(.5*Cd*Airdensea*CrossA*termvsea**2)\n",
    "\n",
    "def drag(vel,Location):\n",
    "    if Location == \"co\":\n",
    "        return (.5*Cd*Airdenco*CrossA*(vel**2))\n",
    "    elif Location == \"sea\":\n",
    "        return (.5*Cd*Airdensea*CrossA*(vel**2))\n",
    "    \n",
    "def lift(vel,spin,Location):\n",
    "    if Location == 'co':\n",
    "        return(Cl*(4 * np.pi**2 * Rball**3 * spin * Airdenco * vel) * (4/3))\n",
    "    elif Location == 'sea':\n",
    "        return(Cl*(4 * np.pi**2 * Rball**3 * spin * Airdensea * vel) * (4/3))\n",
    "\n",
    "\n",
    "def ascensionf(vel, Location):\n",
    "    if Location == 'co':\n",
    "        return( (mass*g) - drag(vel, Location))\n",
    "    elif Location ==\"sea\":\n",
    "        return( (mass*g) - drag(vel, Location))\n",
    "    "
   ]
  },
  {
   "cell_type": "code",
   "execution_count": 135,
   "metadata": {},
   "outputs": [],
   "source": [
    "def Baseballflight(t, y, spin, Location):\n",
    "    '''y is an array with [X0,Y0,Vx,Vy]'''\n",
    "    \n",
    "    dydt= np.zeros(4)\n",
    "    \n",
    "    dydt[1]=y[3]\n",
    "    if y[3]>=0:\n",
    "        dydt[3]= (ascensionf(y[3],Location)+lift(y[2],spin,Location))/mass\n",
    "    elif y[3]<0:\n",
    "        dydt[3]= ((mass*g)+drag(y[3],Location)+lift(y[2],spin,Location))/mass\n",
    "    dydt[0]=y[2]\n",
    "    dydt[2]= -drag(y[2],Location)/mass\n",
    "    return(dydt)"
   ]
  },
  {
   "cell_type": "markdown",
   "metadata": {},
   "source": [
    "Now I will be including the Runga Kutta method as a way to solve these equations. I will be largely using the code Professor Miller Provided in his example on the Runga Kutta Method."
   ]
  },
  {
   "cell_type": "code",
   "execution_count": 189,
   "metadata": {},
   "outputs": [],
   "source": [
    "def RungeKutta4(func, y_0, t, spin, Location):\n",
    "    \"\"\" Classical Runge-Kutta (RK4) approximation to a first-order ODE system\n",
    "    with initial conditions.\n",
    "\n",
    "    Args:\n",
    "        func: (callable) The first-order ODE system to be approximated.\n",
    "        y_0:  (array)    The initial condition.\n",
    "        t:    (array)    A sequence of time points for which to solve for y.\n",
    "        args: (dict)     Extra arguments to pass to function.\n",
    "\n",
    "    Out:\n",
    "        y:    (array)    The approximated solution of the system at each time in t,\n",
    "                         with the initial value y_0 in the first row.\n",
    "    \"\"\"\n",
    "\n",
    "    # Initialise the approximation array\n",
    "    y = np.zeros([len(t), len(y_0)])\n",
    "    y[0] = y_0\n",
    "\n",
    "    # Loop through the time steps, approximating this step from the prev step\n",
    "    for i, t_i in enumerate(t[:-1]):\n",
    "        if y[i][1]<=0:\n",
    "            return(y)\n",
    "        else:\n",
    "            h   = t[i+1] - t_i # size of the step\n",
    "\n",
    "            k_1 = h*func(t_i, y[i], spin, Location)\n",
    "            k_2 = h*func(t_i + h/2. , y[i] + k_1/2., spin, Location)\n",
    "            k_3 = h*func(t_i + h/2. , y[i] + k_2/2., spin, Location)\n",
    "            k_4 = h*func(t_i + h    , y[i] + k_3, spin, Location)\n",
    "\n",
    "            y[i+1] = y[i] + 1/6.*(k_1 + 2.*k_2 + 2.*k_3 + k_4) # RK4 step\n",
    "        \n",
    "    return y"
   ]
  },
  {
   "cell_type": "code",
   "execution_count": 190,
   "metadata": {},
   "outputs": [],
   "source": [
    "N     = 50 # Num of steps to take\n",
    "t_max = 7.5 # Limit of the range to evaluate the function\n",
    "T    = np.linspace(0., t_max, N+1) # Array of discretized steps\n",
    "\n",
    "\n",
    "y_0= np.array([0,1.14,49*np.cos(27*np.pi/180),49*np.sin(27*np.pi/180)])\n",
    "ysea= RungeKutta4(Baseballflight,y_0,T,41,'sea')\n",
    "yco=RungeKutta4(Baseballflight,y_0,T,41,'co')"
   ]
  },
  {
   "cell_type": "code",
   "execution_count": 261,
   "metadata": {},
   "outputs": [
    {
     "name": "stdout",
     "output_type": "stream",
     "text": [
      "0.0\n"
     ]
    }
   ],
   "source": [
    " lis=ysea.tolist()\n",
    "print(lis[50][2])"
   ]
  },
  {
   "cell_type": "code",
   "execution_count": 283,
   "metadata": {},
   "outputs": [],
   "source": [
    "def Cleanerfunc(array):\n",
    "    temp=array.tolist()\n",
    "    for i in range(len(temp)-1):\n",
    "        if temp[i][2]==0:\n",
    "            del temp[i]\n",
    "    return(temp)"
   ]
  },
  {
   "cell_type": "code",
   "execution_count": 284,
   "metadata": {},
   "outputs": [
    {
     "data": {
      "text/plain": [
       "[[0.0, 1.14, 43.659319685230024, 22.24553448723779],\n",
       " [6.439461332778173, 4.40267204044645, 42.216338682571774, 21.257588730583887],\n",
       " [12.669514997143432,\n",
       "  7.517531256340348,\n",
       "  40.865689731665306,\n",
       "  20.27472118470852],\n",
       " [18.703352761367317,\n",
       "  10.485346291944024,\n",
       "  39.59878549383425,\n",
       "  19.296999113839195],\n",
       " [24.55295782953022,\n",
       "  13.306885346471317,\n",
       "  38.40807149641792,\n",
       "  18.324353447659785],\n",
       " [30.22924810721674, 15.982897455613134, 37.28687537740283, 17.35660109581607],\n",
       " [35.742198848076804,\n",
       "  18.514096794372556,\n",
       "  36.22928178590627,\n",
       "  16.393463057129047],\n",
       " [41.100948142900435,\n",
       "  20.901149428681126,\n",
       "  35.2300279851506,\n",
       "  15.434579072749287],\n",
       " [46.31388805325058,\n",
       "  23.144662044164058,\n",
       "  34.28441626819341,\n",
       "  14.479519425008423],\n",
       " [51.388743671936666,\n",
       "  25.245172261551176,\n",
       "  33.388240110082045,\n",
       "  13.527794366363818],\n",
       " [56.33264198019614,\n",
       "  27.20314021358658,\n",
       "  32.537721607021915,\n",
       "  12.578861568913943],\n",
       " [61.152172042068365,\n",
       "  29.018941110989367,\n",
       "  31.72945823991029,\n",
       "  11.632131909372578],\n",
       " [65.8534378117482, 30.69285856750117, 30.96037738016309, 10.68697384318715],\n",
       " [70.44210461574585, 32.22507848824225, 30.227697255281168, 9.742716571608387],\n",
       " [74.92344019777074, 33.61568335299874, 29.5288933288028, 8.798652164569914],\n",
       " [79.30235107215745, 34.86464674787123, 28.861669238252453, 7.8540367683307],\n",
       " [83.58341481496205, 35.97182801586927, 28.223931586080457, 6.908090998471427],\n",
       " [87.77090882557785, 36.93696691027566, 27.61376800051834, 5.959999594816003],\n",
       " [91.86883601191883, 37.759678144504115, 27.02942798198304, 5.008910394197274],\n",
       " [95.88094778579215, 38.43944573917795, 26.469306130962106, 4.053932658900132],\n",
       " [99.81076469955617,\n",
       "  38.97561707159766,\n",
       "  25.931927418938944,\n",
       "  3.0941347824253755],\n",
       " [103.66159500856742,\n",
       "  39.36739653488385,\n",
       "  25.41593421779147,\n",
       "  2.1285413793497936],\n",
       " [107.4365514046708,\n",
       "  39.613838714036866,\n",
       "  24.920074847512204,\n",
       "  1.1561297520074199],\n",
       " [111.13856613280963,\n",
       "  39.713840984034654,\n",
       "  24.443193438863034,\n",
       "  0.17582571302361827],\n",
       " [114.77040467468412,\n",
       "  39.66614333006569,\n",
       "  23.984220938129987,\n",
       "  -0.8132233201279142],\n",
       " [118.33467815943119,\n",
       "  39.4694901057398,\n",
       "  23.542167106627524,\n",
       "  -1.8099417128011206],\n",
       " [121.83385464084243,\n",
       "  39.122871696222106,\n",
       "  23.1161133889352,\n",
       "  -2.8124426518967764],\n",
       " [125.27026936311755,\n",
       "  38.62556316152281,\n",
       "  22.70520654176997,\n",
       "  -3.8188270893573852],\n",
       " [128.6461341221006,\n",
       "  37.977124073307685,\n",
       "  22.308652930500987,\n",
       "  -4.8272023573745395],\n",
       " [131.9635458159817, 37.1773967579022, 21.925713413083887, -5.835692841340543],\n",
       " [135.22449426824832,\n",
       "  36.22650293948087,\n",
       "  21.555698742022244,\n",
       "  -6.842450609938374],\n",
       " [138.43086939597003,\n",
       "  35.12483880227615,\n",
       "  21.19796542417678,\n",
       "  -7.845665837903756],\n",
       " [141.58446778807956,\n",
       "  33.873068514801915,\n",
       "  20.851911986102305,\n",
       "  -8.843576864360694],\n",
       " [144.6869987509813,\n",
       "  32.472116281887594,\n",
       "  20.51697559931554,\n",
       "  -9.834479740354238],\n",
       " [147.74008987242323,\n",
       "  30.92315701127952,\n",
       "  20.192629025663507,\n",
       "  -10.81673713294647],\n",
       " [150.74529214897433,\n",
       "  29.227605700266672,\n",
       "  19.878377847921236,\n",
       "  -11.788786469559644],\n",
       " [153.7040847175475,\n",
       "  27.38710566387982,\n",
       "  19.57375795502241,\n",
       "  -12.749147224617905],\n",
       " [156.61787922710232,\n",
       "  25.40351573943221,\n",
       "  19.27833325502088,\n",
       "  -13.696427270371842],\n",
       " [159.48802388287245,\n",
       "  23.2788966123432,\n",
       "  18.99169359208104,\n",
       "  -14.629328234474013],\n",
       " [162.31580719212025,\n",
       "  21.015496415230675,\n",
       "  18.713452846572892,\n",
       "  -15.54664982779396],\n",
       " [165.1024614374682,\n",
       "  18.615735756184854,\n",
       "  18.443247199764727,\n",
       "  -16.4472931265261],\n",
       " [167.849165901242, 16.0821923330388, 18.180733546713785, -17.330262812310245],\n",
       " [170.55704986194186,\n",
       "  13.417585288500863,\n",
       "  17.925588042796296,\n",
       "  -18.194668392375327],\n",
       " [173.22719538189784,\n",
       "  10.624759456450269,\n",
       "  17.67750477093034,\n",
       "  -19.03972443823551],\n",
       " [175.86063990333176,\n",
       "  7.706669642806489,\n",
       "  17.436194517958715,\n",
       "  -19.864749895908762],\n",
       " [178.45837866841336,\n",
       "  4.66636507549703,\n",
       "  17.20138364990151,\n",
       "  -20.669166532778412],\n",
       " [181.02136697743845,\n",
       "  1.5069741475193186,\n",
       "  16.972813076881998,\n",
       "  -21.45249659595972],\n",
       " [183.55052229795155,\n",
       "  -1.768310434715672,\n",
       "  16.75023729949421,\n",
       "  -22.21435976433566],\n",
       " [0.0, 0.0, 0.0, 0.0]]"
      ]
     },
     "execution_count": 284,
     "metadata": {},
     "output_type": "execute_result"
    }
   ],
   "source": [
    "Cleanerfunc(ysea)\n"
   ]
  },
  {
   "cell_type": "code",
   "execution_count": 191,
   "metadata": {
    "scrolled": true
   },
   "outputs": [
    {
     "data": {
      "text/plain": [
       "<matplotlib.legend.Legend at 0xe2fd730>"
      ]
     },
     "execution_count": 191,
     "metadata": {},
     "output_type": "execute_result"
    },
    {
     "data": {
      "image/png": "[encoded data removed]",
      "text/plain": [
       "<Figure size 432x288 with 1 Axes>"
      ]
     },
     "metadata": {
      "needs_background": "light"
     },
     "output_type": "display_data"
    }
   ],
   "source": [
    "plt.plot(T,ysea[:,0],label='sea')\n",
    "plt.plot(T,yco[:,0],label='co')\n",
    "plt.legend()"
   ]
  },
  {
   "cell_type": "code",
   "execution_count": 192,
   "metadata": {},
   "outputs": [
    {
     "data": {
      "text/plain": [
       "<matplotlib.legend.Legend at 0xe2f3f30>"
      ]
     },
     "execution_count": 192,
     "metadata": {},
     "output_type": "execute_result"
    },
    {
     "data": {
      "image/png": "[encoded data removed]",
      "text/plain": [
       "<Figure size 432x288 with 1 Axes>"
      ]
     },
     "metadata": {
      "needs_background": "light"
     },
     "output_type": "display_data"
    }
   ],
   "source": [
    "plt.plot(T,ysea[:,1],label='sea')\n",
    "plt.plot(T,yco[:,1],label='co')\n",
    "plt.legend()"
   ]
  },
  {
   "cell_type": "code",
   "execution_count": 193,
   "metadata": {},
   "outputs": [
    {
     "data": {
      "text/plain": [
       "<matplotlib.legend.Legend at 0xe3538b0>"
      ]
     },
     "execution_count": 193,
     "metadata": {},
     "output_type": "execute_result"
    },
    {
     "data": {
      "image/png": "[encoded data removed]",
      "text/plain": [
       "<Figure size 432x288 with 1 Axes>"
      ]
     },
     "metadata": {
      "needs_background": "light"
     },
     "output_type": "display_data"
    }
   ],
   "source": [
    "plt.plot(ysea[:,0],ysea[:,1],label='Sea Level')\n",
    "plt.plot(yco[:,0],yco[:,1],label='Colorado')\n",
    "plt.legend()\n",
    "\n"
   ]
  },
  {
   "cell_type": "code",
   "execution_count": null,
   "metadata": {},
   "outputs": [],
   "source": []
  },
  {
   "cell_type": "code",
   "execution_count": null,
   "metadata": {},
   "outputs": [],
   "source": []
  }
 ],
 "metadata": {
  "kernelspec": {
   "display_name": "Python 3",
   "language": "python",
   "name": "python3"
  },
  "language_info": {
   "codemirror_mode": {
    "name": "ipython",
    "version": 3
   },
   "file_extension": ".py",
   "mimetype": "text/x-python",
   "name": "python",
   "nbconvert_exporter": "python",
   "pygments_lexer": "ipython3",
   "version": "3.7.4"
  }
 },
 "nbformat": 4,
 "nbformat_minor": 2
}
